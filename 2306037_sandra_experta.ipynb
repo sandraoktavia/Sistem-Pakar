{
  "cells": [
    {
      "cell_type": "markdown",
      "metadata": {
        "id": "view-in-github",
        "colab_type": "text"
      },
      "source": [
        "<a href=\"https://colab.research.google.com/github/sandraoktavia/Sistem-Pakar/blob/main/2306037_sandra_experta.ipynb\" target=\"_parent\"><img src=\"https://colab.research.google.com/assets/colab-badge.svg\" alt=\"Open In Colab\"/></a>"
      ]
    },
    {
      "cell_type": "code",
      "execution_count": 2,
      "metadata": {
        "colab": {
          "base_uri": "https://localhost:8080/"
        },
        "id": "KQachJPa5p10",
        "outputId": "65dd3da6-f9b0-43b6-c0f2-b8b974ede216"
      },
      "outputs": [
        {
          "output_type": "stream",
          "name": "stdout",
          "text": [
            "noRequirement already satisfied: experta in /usr/local/lib/python3.11/dist-packages (1.9.4)\n",
            "Requirement already satisfied: frozendict==1.2 in /usr/local/lib/python3.11/dist-packages (from experta) (1.2)\n",
            "Requirement already satisfied: schema==0.6.7 in /usr/local/lib/python3.11/dist-packages (from experta) (0.6.7)\n"
          ]
        }
      ],
      "source": [
        "pip install --upgrade experta"
      ]
    },
    {
      "cell_type": "code",
      "execution_count": 3,
      "metadata": {
        "colab": {
          "base_uri": "https://localhost:8080/"
        },
        "id": "Uc3Jpg2z5Qyd",
        "outputId": "df86a9c7-ac6f-4711-c68e-468352e3cf14"
      },
      "outputs": [
        {
          "output_type": "stream",
          "name": "stdout",
          "text": [
            "Requirement already satisfied: frozendict in /usr/local/lib/python3.11/dist-packages (1.2)\n",
            "Collecting frozendict\n",
            "  Using cached frozendict-2.4.6-py311-none-any.whl.metadata (23 kB)\n",
            "Using cached frozendict-2.4.6-py311-none-any.whl (16 kB)\n",
            "Installing collected packages: frozendict\n",
            "  Attempting uninstall: frozendict\n",
            "    Found existing installation: frozendict 1.2\n",
            "    Uninstalling frozendict-1.2:\n",
            "      Successfully uninstalled frozendict-1.2\n",
            "\u001b[31mERROR: pip's dependency resolver does not currently take into account all the packages that are installed. This behaviour is the source of the following dependency conflicts.\n",
            "experta 1.9.4 requires frozendict==1.2, but you have frozendict 2.4.6 which is incompatible.\u001b[0m\u001b[31m\n",
            "\u001b[0mSuccessfully installed frozendict-2.4.6\n"
          ]
        }
      ],
      "source": [
        "!pip install --upgrade frozendict"
      ]
    },
    {
      "cell_type": "code",
      "execution_count": 4,
      "metadata": {
        "colab": {
          "base_uri": "https://localhost:8080/"
        },
        "id": "kZvItIwk6MDP",
        "outputId": "600d63eb-7764-4a54-a2f1-bc2fa8288ae0"
      },
      "outputs": [
        {
          "output_type": "stream",
          "name": "stdout",
          "text": [
            "Do you have a cough? (yes/no): yes\n",
            "Do you have a fever? (yes/no): no\n",
            "Do you feel tired? (yes/no): no\n",
            "Do you have difficulty breathing? (yes/no): no\n",
            "Do you have sneezing? (yes/no): yes\n",
            "Do you have a runny nose? (yes/no): yes\n",
            "Do you have a sore throat? (yes/no): no\n",
            "Do you have a dry cough? (yes/no): yes\n",
            "Do you have loss of taste or smell? (yes/no): no\n",
            "Do you have coughing blood? (yes/no): no\n",
            "Do you have night sweats? (yes/no): no\n",
            "Do you have unexplained weight loss? (yes/no): no\n",
            "Do you have wheezing? (yes/no): yes\n",
            "Do you have stomach pain? (yes/no): no\n",
            "Do you feel nauseous? (yes/no): no\n",
            "Do you feel bloated? (yes/no): no\n",
            "Do you have a headache? (yes/no): no\n",
            "Do you feel sensitive to light? (yes/no): no\n",
            "=== Welcome to the Expert System for Disease Diagnosis ===\n",
            "Diagnosis: You may have a Common Cold.\n"
          ]
        }
      ],
      "source": [
        "from experta import KnowledgeEngine, Fact, Rule, DefFacts\n",
        "\n",
        "class Diagnosis(KnowledgeEngine):\n",
        "    @DefFacts()\n",
        "    def _initial_action(self):\n",
        "        print(\"=== Welcome to the Expert System for Disease Diagnosis ===\")\n",
        "        yield Fact(action=\"diagnose\")\n",
        "\n",
        "    # Flu\n",
        "    @Rule(Fact(cough=True), Fact(fever=True), Fact(fatigue=True))\n",
        "    def flu(self):\n",
        "        print(\"Diagnosis: You may have the Flu.\")\n",
        "\n",
        "    # Pneumonia\n",
        "    @Rule(Fact(cough=True), Fact(fever=True), Fact(breathing_difficulty=True))\n",
        "    def pneumonia(self):\n",
        "        print(\"Diagnosis: You may have Pneumonia.\")\n",
        "\n",
        "    # Common Cold\n",
        "    @Rule(Fact(sneezing=True), Fact(runny_nose=True), Fact(cough=True))\n",
        "    def cold(self):\n",
        "        print(\"Diagnosis: You may have a Common Cold.\")\n",
        "\n",
        "    # Throat Infection\n",
        "    @Rule(Fact(sore_throat=True), Fact(fever=True))\n",
        "    def throat_infection(self):\n",
        "        print(\"Diagnosis: You may have a Throat Infection.\")\n",
        "\n",
        "    # Covid-19\n",
        "    @Rule(Fact(fever=True), Fact(dry_cough=True), Fact(breathing_difficulty=True), Fact(loss_of_taste=True))\n",
        "    def covid19(self):\n",
        "        print(\"Diagnosis: You may have Covid-19.\")\n",
        "\n",
        "    # Tuberculosis (TBC)\n",
        "    @Rule(Fact(cough_blood=True), Fact(night_sweats=True), Fact(weight_loss=True), Fact(fever=True))\n",
        "    def tbc(self):\n",
        "        print(\"Diagnosis: You may have Tuberculosis (TBC).\")\n",
        "\n",
        "    # Asthma\n",
        "    @Rule(Fact(breathing_difficulty=True), Fact(cough=True), Fact(wheezing=True))\n",
        "    def asthma(self):\n",
        "        print(\"Diagnosis: You may have Asthma.\")\n",
        "\n",
        "    # Gastritis\n",
        "    @Rule(Fact(stomach_pain=True), Fact(nausea=True), Fact(bloating=True))\n",
        "    def gastritis(self):\n",
        "        print(\"Diagnosis: You may have Gastritis.\")\n",
        "\n",
        "    # Migraine\n",
        "    @Rule(Fact(headache=True), Fact(light_sensitivity=True), Fact(nausea=True))\n",
        "    def migraine(self):\n",
        "        print(\"Diagnosis: You may have a Migraine.\")\n",
        "\n",
        "    # Healthy - fallback rule if no main symptoms\n",
        "    @Rule(\n",
        "        Fact(cough=False), Fact(fever=False), Fact(fatigue=False),\n",
        "        Fact(breathing_difficulty=False), Fact(sneezing=False),\n",
        "        Fact(runny_nose=False), Fact(sore_throat=False), Fact(dry_cough=False),\n",
        "        Fact(loss_of_taste=False), Fact(cough_blood=False), Fact(night_sweats=False),\n",
        "        Fact(weight_loss=False), Fact(wheezing=False), Fact(stomach_pain=False),\n",
        "        Fact(nausea=False), Fact(bloating=False), Fact(headache=False), Fact(light_sensitivity=False)\n",
        "    )\n",
        "    def healthy(self):\n",
        "        print(\"Diagnosis: You seem to be healthy.\")\n",
        "\n",
        "# Helper function\n",
        "def get_input():\n",
        "    def ask(question):\n",
        "        answer = input(f\"{question} (yes/no): \").strip().lower()\n",
        "        return answer == \"yes\"\n",
        "\n",
        "    return {\n",
        "        \"cough\": ask(\"Do you have a cough?\"),\n",
        "        \"fever\": ask(\"Do you have a fever?\"),\n",
        "        \"fatigue\": ask(\"Do you feel tired?\"),\n",
        "        \"breathing_difficulty\": ask(\"Do you have difficulty breathing?\"),\n",
        "        \"sneezing\": ask(\"Do you have sneezing?\"),\n",
        "        \"runny_nose\": ask(\"Do you have a runny nose?\"),\n",
        "        \"sore_throat\": ask(\"Do you have a sore throat?\"),\n",
        "        \"dry_cough\": ask(\"Do you have a dry cough?\"),\n",
        "        \"loss_of_taste\": ask(\"Do you have loss of taste or smell?\"),\n",
        "        \"cough_blood\": ask(\"Do you have coughing blood?\"),\n",
        "        \"night_sweats\": ask(\"Do you have night sweats?\"),\n",
        "        \"weight_loss\": ask(\"Do you have unexplained weight loss?\"),\n",
        "        \"wheezing\": ask(\"Do you have wheezing?\"),\n",
        "        \"stomach_pain\": ask(\"Do you have stomach pain?\"),\n",
        "        \"nausea\": ask(\"Do you feel nauseous?\"),\n",
        "        \"bloating\": ask(\"Do you feel bloated?\"),\n",
        "        \"headache\": ask(\"Do you have a headache?\"),\n",
        "        \"light_sensitivity\": ask(\"Do you feel sensitive to light?\")\n",
        "    }\n",
        "\n",
        "# Run the system\n",
        "if __name__ == \"__main__\":\n",
        "    symptoms = get_input()\n",
        "    engine = Diagnosis()\n",
        "    engine.reset()\n",
        "    for symptom, value in symptoms.items():\n",
        "        engine.declare(Fact(**{symptom: value}))\n",
        "    engine.run()\n"
      ]
    },
    {
      "cell_type": "code",
      "execution_count": 5,
      "metadata": {
        "colab": {
          "base_uri": "https://localhost:8080/"
        },
        "id": "WpKuAEkIDFN3",
        "outputId": "286329e4-f39f-421a-e5dc-b4b6dd40011d"
      },
      "outputs": [
        {
          "output_type": "stream",
          "name": "stdout",
          "text": [
            "Diagnosis: Anda terkena Radang Tenggorokan!!cepet sehat yaqq.\n"
          ]
        }
      ],
      "source": [
        "from experta import *\n",
        "\n",
        "class SistemPakarMedis(KnowledgeEngine):\n",
        "\n",
        "    @Rule(Fact(demam=True) & Fact(batuk=True))\n",
        "    def flu(self):\n",
        "        print(\"Diagnosis: Flu.\")\n",
        "\n",
        "    @Rule(Fact(sakit_tenggorokan=True) & Fact(demam=True))\n",
        "    def throat_infection(self):\n",
        "        print(\"Diagnosis: Anda terkena Radang Tenggorokan!!cepet sehat yaqq.\")\n",
        "\n",
        "# Running the Expert System\n",
        "engine = SistemPakarMedis()\n",
        "engine.reset()\n",
        "engine.declare(Fact(demam=True))\n",
        "engine.declare(Fact(sakit_tenggorokan=True))  # input symptoms\n",
        "engine.run()\n"
      ]
    },
    {
      "cell_type": "code",
      "execution_count": 6,
      "metadata": {
        "colab": {
          "base_uri": "https://localhost:8080/"
        },
        "id": "KPhV7eyaH5Wp",
        "outputId": "243d9665-0039-4bea-8e7a-e232d30a0d41"
      },
      "outputs": [
        {
          "output_type": "stream",
          "name": "stdout",
          "text": [
            "Inferred facts: {'lays_eggs', 'is_chicken', 'is_bird', 'has_feathers', 'can_fly'}\n"
          ]
        }
      ],
      "source": [
        "def forward_chaining(facts, rules):\n",
        "    inferred = set(facts)\n",
        "    changed = True\n",
        "\n",
        "    while changed:\n",
        "        changed = False\n",
        "        for rule in rules:\n",
        "            if rule[\"if\"].issubset(inferred) and rule[\"then\"] not in inferred:\n",
        "                inferred.add(rule[\"then\"])\n",
        "                changed = True\n",
        "    return inferred\n",
        "\n",
        "facts = {\"has_feathers\", \"can_fly\", \"lays_eggs\"}\n",
        "rules = [\n",
        "    {\"if\": {\"has_feathers\", \"can_fly\"}, \"then\": \"is_bird\"},\n",
        "    {\"if\": {\"lays_eggs\", \"is_bird\"}, \"then\": \"is_chicken\"}\n",
        "]\n",
        "\n",
        "# Menjalankan forward chaining\n",
        "result = forward_chaining(facts, rules)\n",
        "print(\"Inferred facts:\", result)\n"
      ]
    },
    {
      "cell_type": "code",
      "execution_count": 7,
      "metadata": {
        "colab": {
          "base_uri": "https://localhost:8080/"
        },
        "id": "e9mIslNSNCuu",
        "outputId": "83f5503a-08af-4fb9-9c9f-025747603453"
      },
      "outputs": [
        {
          "output_type": "stream",
          "name": "stdout",
          "text": [
            "Is 'software_engineer' provable? -> False\n"
          ]
        }
      ],
      "source": [
        "def backward_chaining(goal, facts, rules):\n",
        "    if goal in facts:\n",
        "        return True\n",
        "\n",
        "    for rule in rules:\n",
        "        if rule[\"then\"] == goal:\n",
        "            if all(backward_chaining(cond, facts, rules) for cond in rule[\"if\"]):\n",
        "                return True\n",
        "\n",
        "    return False\n",
        "\n",
        "facts = {\"likes_computers\", \"likes_programming\"}  # 'solves_problems' TIDAK ada\n",
        "rules = [\n",
        "    {\"if\": {\"likes_computers\", \"solves_problems\"}, \"then\": \"should_be_engineer\"},\n",
        "    {\"if\": {\"should_be_engineer\", \"likes_programming\"}, \"then\": \"software_engineer\"}\n",
        "]\n",
        "\n",
        "\n",
        "goal = \"software_engineer\"\n",
        "result = backward_chaining(goal, facts, rules)\n",
        "print(f\"Is '{goal}' provable? ->\", result)\n",
        "\n"
      ]
    }
  ],
  "metadata": {
    "colab": {
      "provenance": [],
      "authorship_tag": "ABX9TyMRRlXBGdToyXa9e+fhnImG",
      "include_colab_link": true
    },
    "kernelspec": {
      "display_name": "Python 3",
      "name": "python3"
    },
    "language_info": {
      "name": "python"
    }
  },
  "nbformat": 4,
  "nbformat_minor": 0
}